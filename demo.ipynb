{
 "cells": [
  {
   "cell_type": "markdown",
   "metadata": {},
   "source": [
    "# Demo Notebook\n",
    "This notebook provides a simple demonstration of using DeepSeek Chat (Deepseek-v3) API using LangChain"
   ]
  },
  {
   "cell_type": "code",
   "execution_count": 1,
   "metadata": {},
   "outputs": [],
   "source": [
    "from langchain.document_loaders import TextLoader\n",
    "from langchain.text_splitter import RecursiveCharacterTextSplitter\n",
    "from langchain_huggingface import HuggingFaceEmbeddings\n",
    "from langchain.vectorstores import Chroma\n",
    "\n",
    "from dotenv import load_dotenv\n",
    "import os\n",
    "\n",
    "load_dotenv()\n",
    "api_key = os.getenv('DEEPSEEK_API_KEY')"
   ]
  },
  {
   "cell_type": "markdown",
   "metadata": {},
   "source": [
    "### Create Embedding"
   ]
  },
  {
   "cell_type": "code",
   "execution_count": null,
   "metadata": {},
   "outputs": [],
   "source": [
    "\n",
    "# Load and split text\n",
    "loader = TextLoader(\"data/demo_data.txt\")\n",
    "documents = loader.load()\n",
    "text_splitter = RecursiveCharacterTextSplitter(chunk_size=500, chunk_overlap=50)\n",
    "docs = text_splitter.split_documents(documents)\n",
    "\n",
    "# Generate embeddings & store in ChromaDB\n",
    "embedding_model = HuggingFaceEmbeddings(model_name=\"sentence-transformers/all-MiniLM-L6-v2\")\n",
    "vector_db = Chroma.from_documents(docs, embedding_model)\n"
   ]
  },
  {
   "cell_type": "markdown",
   "metadata": {},
   "source": [
    "### Retrieve relevant documents"
   ]
  },
  {
   "cell_type": "code",
   "execution_count": 4,
   "metadata": {},
   "outputs": [],
   "source": [
    "query = \"What is the phenomenon that allows a system to exist in multiple configurations?\"\n",
    "retrieved_docs = vector_db.similarity_search(query, k=3)\n",
    "retrieved_texts = \"\\n\".join([doc.page_content for doc in retrieved_docs])\n"
   ]
  },
  {
   "cell_type": "markdown",
   "metadata": {},
   "source": [
    "### Generate Response with LLM"
   ]
  },
  {
   "cell_type": "code",
   "execution_count": 5,
   "metadata": {},
   "outputs": [
    {
     "name": "stdout",
     "output_type": "stream",
     "text": [
      "The phenomenon that allows a system to exist in multiple configurations is **superposition**. In quantum mechanics, superposition refers to the state in which a quantum particle or system can represent not just one possibility, but a combination of multiple possibilities simultaneously. This is a fundamental principle that enables quantum computers to explore many potential solutions at once, unlike classical computers, which are deterministic and process one solution at a time.\n"
     ]
    }
   ],
   "source": [
    "from langchain_deepseek import ChatDeepSeek\n",
    "\n",
    "llm = ChatDeepSeek(\n",
    "    model=\"deepseek-chat\",  # or \"deepseek-reasoner\" for DeepSeek-R1\n",
    "    temperature=0.7,\n",
    "    max_tokens=150,\n",
    "    timeout=30,\n",
    "    max_retries=2,\n",
    "    # api_key=api_key,\n",
    "    # user='vtohal@gmail.com'\n",
    ")\n",
    "\n",
    "response = llm.invoke(f\"Answer using this context:\\n{retrieved_texts}\\n\\nQuestion: {query}\")\n",
    "print(response.content)"
   ]
  }
 ],
 "metadata": {
  "kernelspec": {
   "display_name": "Python 3 (ipykernel)",
   "language": "python",
   "name": "python3"
  }
 },
 "nbformat": 4,
 "nbformat_minor": 2
}
